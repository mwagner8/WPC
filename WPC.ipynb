{
 "cells": [
  {
   "cell_type": "code",
   "execution_count": 1,
   "id": "0f40ee53-0cac-4eb0-aa17-e5f357902d22",
   "metadata": {},
   "outputs": [
    {
     "name": "stdout",
     "output_type": "stream",
     "text": [
      "Linear Algebra\n"
     ]
    }
   ],
   "source": [
    "print(\"Linear Algebra\")"
   ]
  },
  {
   "cell_type": "code",
   "execution_count": 2,
   "id": "02a60dc6-0ce0-4bf2-a758-5f44e9463107",
   "metadata": {},
   "outputs": [
    {
     "name": "stdout",
     "output_type": "stream",
     "text": [
      "orange\n"
     ]
    }
   ],
   "source": [
    "fruits = [\"mango\",\"orange\",\"apple\"]\n",
    "print(fruits[1])"
   ]
  },
  {
   "cell_type": "code",
   "execution_count": 2,
   "id": "85642719-958d-4462-963e-30d1acd8c513",
   "metadata": {},
   "outputs": [
    {
     "name": "stdout",
     "output_type": "stream",
     "text": [
      "All packages are installed correctly!\n"
     ]
    }
   ],
   "source": [
    "import numpy as np\n",
    "import matplotlib.pyplot as plt\n",
    "from sklearn.linear_model import LinearRegression\n",
    "\n",
    "print(\"All packages are installed correctly!\")\n",
    "\n",
    "import pandas as pd"
   ]
  },
  {
   "cell_type": "code",
   "execution_count": 3,
   "id": "d8ddfbaf-4e79-48c1-9792-3810685d771e",
   "metadata": {},
   "outputs": [],
   "source": [
    "df = pd.read_csv(r\"C:\\Users\\micha\\Downloads\\NBA_2024_per_game(03-01-2024).csv\")"
   ]
  },
  {
   "cell_type": "code",
   "execution_count": 4,
   "id": "cff57ac6-3910-4233-9da9-5ef6c0eb61ef",
   "metadata": {},
   "outputs": [],
   "source": [
    "df['FGMi'] = df['FGA'] - df['FG']"
   ]
  },
  {
   "cell_type": "code",
   "execution_count": 5,
   "id": "aeb65d62-ccbd-47f6-a5e4-7d498f00284e",
   "metadata": {},
   "outputs": [
    {
     "data": {
      "text/html": [
       "<div>\n",
       "<style scoped>\n",
       "    .dataframe tbody tr th:only-of-type {\n",
       "        vertical-align: middle;\n",
       "    }\n",
       "\n",
       "    .dataframe tbody tr th {\n",
       "        vertical-align: top;\n",
       "    }\n",
       "\n",
       "    .dataframe thead th {\n",
       "        text-align: right;\n",
       "    }\n",
       "</style>\n",
       "<table border=\"1\" class=\"dataframe\">\n",
       "  <thead>\n",
       "    <tr style=\"text-align: right;\">\n",
       "      <th></th>\n",
       "      <th>Player</th>\n",
       "      <th>Pos</th>\n",
       "      <th>Age</th>\n",
       "      <th>Tm</th>\n",
       "      <th>G</th>\n",
       "      <th>GS</th>\n",
       "      <th>MP</th>\n",
       "      <th>FG</th>\n",
       "      <th>FGA</th>\n",
       "      <th>FG%</th>\n",
       "      <th>...</th>\n",
       "      <th>ORB</th>\n",
       "      <th>DRB</th>\n",
       "      <th>TRB</th>\n",
       "      <th>AST</th>\n",
       "      <th>STL</th>\n",
       "      <th>BLK</th>\n",
       "      <th>TOV</th>\n",
       "      <th>PF</th>\n",
       "      <th>PTS</th>\n",
       "      <th>FGMi</th>\n",
       "    </tr>\n",
       "  </thead>\n",
       "  <tbody>\n",
       "    <tr>\n",
       "      <th>0</th>\n",
       "      <td>Precious Achiuwa</td>\n",
       "      <td>C-PF</td>\n",
       "      <td>24</td>\n",
       "      <td>TOT</td>\n",
       "      <td>26</td>\n",
       "      <td>0</td>\n",
       "      <td>17.2</td>\n",
       "      <td>3.0</td>\n",
       "      <td>6.6</td>\n",
       "      <td>0.453</td>\n",
       "      <td>...</td>\n",
       "      <td>2.0</td>\n",
       "      <td>3.4</td>\n",
       "      <td>5.3</td>\n",
       "      <td>1.7</td>\n",
       "      <td>0.6</td>\n",
       "      <td>0.5</td>\n",
       "      <td>1.1</td>\n",
       "      <td>1.6</td>\n",
       "      <td>7.4</td>\n",
       "      <td>3.6</td>\n",
       "    </tr>\n",
       "    <tr>\n",
       "      <th>1</th>\n",
       "      <td>Precious Achiuwa</td>\n",
       "      <td>C</td>\n",
       "      <td>24</td>\n",
       "      <td>TOR</td>\n",
       "      <td>25</td>\n",
       "      <td>0</td>\n",
       "      <td>17.5</td>\n",
       "      <td>3.1</td>\n",
       "      <td>6.8</td>\n",
       "      <td>0.459</td>\n",
       "      <td>...</td>\n",
       "      <td>2.0</td>\n",
       "      <td>3.4</td>\n",
       "      <td>5.4</td>\n",
       "      <td>1.8</td>\n",
       "      <td>0.6</td>\n",
       "      <td>0.5</td>\n",
       "      <td>1.2</td>\n",
       "      <td>1.6</td>\n",
       "      <td>7.7</td>\n",
       "      <td>3.7</td>\n",
       "    </tr>\n",
       "    <tr>\n",
       "      <th>2</th>\n",
       "      <td>Precious Achiuwa</td>\n",
       "      <td>PF</td>\n",
       "      <td>24</td>\n",
       "      <td>NYK</td>\n",
       "      <td>1</td>\n",
       "      <td>0</td>\n",
       "      <td>9.0</td>\n",
       "      <td>0.0</td>\n",
       "      <td>2.0</td>\n",
       "      <td>0.000</td>\n",
       "      <td>...</td>\n",
       "      <td>1.0</td>\n",
       "      <td>2.0</td>\n",
       "      <td>3.0</td>\n",
       "      <td>0.0</td>\n",
       "      <td>0.0</td>\n",
       "      <td>0.0</td>\n",
       "      <td>0.0</td>\n",
       "      <td>2.0</td>\n",
       "      <td>0.0</td>\n",
       "      <td>2.0</td>\n",
       "    </tr>\n",
       "    <tr>\n",
       "      <th>3</th>\n",
       "      <td>Bam Adebayo</td>\n",
       "      <td>C</td>\n",
       "      <td>26</td>\n",
       "      <td>MIA</td>\n",
       "      <td>23</td>\n",
       "      <td>23</td>\n",
       "      <td>34.1</td>\n",
       "      <td>8.0</td>\n",
       "      <td>15.7</td>\n",
       "      <td>0.506</td>\n",
       "      <td>...</td>\n",
       "      <td>2.1</td>\n",
       "      <td>8.3</td>\n",
       "      <td>10.4</td>\n",
       "      <td>4.0</td>\n",
       "      <td>1.1</td>\n",
       "      <td>1.0</td>\n",
       "      <td>2.7</td>\n",
       "      <td>2.4</td>\n",
       "      <td>22.0</td>\n",
       "      <td>7.7</td>\n",
       "    </tr>\n",
       "    <tr>\n",
       "      <th>4</th>\n",
       "      <td>Ochai Agbaji</td>\n",
       "      <td>SG</td>\n",
       "      <td>23</td>\n",
       "      <td>UTA</td>\n",
       "      <td>34</td>\n",
       "      <td>10</td>\n",
       "      <td>21.1</td>\n",
       "      <td>2.6</td>\n",
       "      <td>5.7</td>\n",
       "      <td>0.451</td>\n",
       "      <td>...</td>\n",
       "      <td>0.8</td>\n",
       "      <td>1.7</td>\n",
       "      <td>2.5</td>\n",
       "      <td>1.0</td>\n",
       "      <td>0.6</td>\n",
       "      <td>0.5</td>\n",
       "      <td>0.7</td>\n",
       "      <td>1.5</td>\n",
       "      <td>6.6</td>\n",
       "      <td>3.1</td>\n",
       "    </tr>\n",
       "  </tbody>\n",
       "</table>\n",
       "<p>5 rows × 30 columns</p>\n",
       "</div>"
      ],
      "text/plain": [
       "             Player   Pos  Age   Tm   G  GS    MP   FG   FGA    FG%  ...  ORB  \\\n",
       "0  Precious Achiuwa  C-PF   24  TOT  26   0  17.2  3.0   6.6  0.453  ...  2.0   \n",
       "1  Precious Achiuwa     C   24  TOR  25   0  17.5  3.1   6.8  0.459  ...  2.0   \n",
       "2  Precious Achiuwa    PF   24  NYK   1   0   9.0  0.0   2.0  0.000  ...  1.0   \n",
       "3       Bam Adebayo     C   26  MIA  23  23  34.1  8.0  15.7  0.506  ...  2.1   \n",
       "4      Ochai Agbaji    SG   23  UTA  34  10  21.1  2.6   5.7  0.451  ...  0.8   \n",
       "\n",
       "   DRB   TRB  AST  STL  BLK  TOV   PF   PTS  FGMi  \n",
       "0  3.4   5.3  1.7  0.6  0.5  1.1  1.6   7.4   3.6  \n",
       "1  3.4   5.4  1.8  0.6  0.5  1.2  1.6   7.7   3.7  \n",
       "2  2.0   3.0  0.0  0.0  0.0  0.0  2.0   0.0   2.0  \n",
       "3  8.3  10.4  4.0  1.1  1.0  2.7  2.4  22.0   7.7  \n",
       "4  1.7   2.5  1.0  0.6  0.5  0.7  1.5   6.6   3.1  \n",
       "\n",
       "[5 rows x 30 columns]"
      ]
     },
     "execution_count": 5,
     "metadata": {},
     "output_type": "execute_result"
    }
   ],
   "source": [
    "df.head()"
   ]
  },
  {
   "cell_type": "code",
   "execution_count": 7,
   "id": "14f96c64-03d7-4583-91f2-f6c8cba9b53c",
   "metadata": {},
   "outputs": [],
   "source": [
    "\n",
    "team_stats = df.groupby('Tm').agg({\n",
    "    'FGA': 'sum',\n",
    "    'ORB': 'sum',\n",
    "    'TOV' : 'sum',\n",
    "    'FTA': 'sum'\n",
    "    \n",
    "}).reset_index()\n",
    "\n",
    "team_stats['possessions'] = (team_stats['FGA']+team_stats['ORB']-team_stats['TOV']+(.4*team_stats['FTA']))\n",
    "\n",
    "team_stats = team_stats.rename(columns={'possessions': 'team_possessions'})\n",
    "\n",
    "df = pd.merge(df, team_stats[['Tm', 'team_possessions']], on='Tm')\n",
    "\n"
   ]
  },
  {
   "cell_type": "code",
   "execution_count": 1,
   "id": "38c3529e-ad78-4d10-8bda-8afe9d2bcea0",
   "metadata": {},
   "outputs": [
    {
     "ename": "NameError",
     "evalue": "name 'df' is not defined",
     "output_type": "error",
     "traceback": [
      "\u001b[1;31m---------------------------------------------------------------------------\u001b[0m",
      "\u001b[1;31mNameError\u001b[0m                                 Traceback (most recent call last)",
      "\u001b[1;32m~\\AppData\\Local\\Temp\\ipykernel_2792\\2014872783.py\u001b[0m in \u001b[0;36m<module>\u001b[1;34m\u001b[0m\n\u001b[0;32m      1\u001b[0m \u001b[1;32mfrom\u001b[0m \u001b[0msklearn\u001b[0m\u001b[1;33m.\u001b[0m\u001b[0mlinear_model\u001b[0m \u001b[1;32mimport\u001b[0m \u001b[0mLinearRegression\u001b[0m\u001b[1;33m\u001b[0m\u001b[1;33m\u001b[0m\u001b[0m\n\u001b[0;32m      2\u001b[0m \u001b[1;33m\u001b[0m\u001b[0m\n\u001b[1;32m----> 3\u001b[1;33m \u001b[0mX\u001b[0m \u001b[1;33m=\u001b[0m \u001b[0mdf\u001b[0m\u001b[1;33m[\u001b[0m\u001b[1;33m[\u001b[0m\u001b[1;34m'ORB'\u001b[0m\u001b[1;33m,\u001b[0m\u001b[1;34m'DRB'\u001b[0m\u001b[1;33m,\u001b[0m\u001b[1;34m'STL'\u001b[0m\u001b[1;33m,\u001b[0m\u001b[1;34m'BLK'\u001b[0m\u001b[1;33m,\u001b[0m\u001b[1;34m'TOV'\u001b[0m\u001b[1;33m,\u001b[0m\u001b[1;34m'PF'\u001b[0m\u001b[1;33m,\u001b[0m\u001b[1;34m'FGMi'\u001b[0m\u001b[1;33m,\u001b[0m\u001b[1;34m'FTA'\u001b[0m\u001b[1;33m]\u001b[0m\u001b[1;33m]\u001b[0m\u001b[1;33m\u001b[0m\u001b[1;33m\u001b[0m\u001b[0m\n\u001b[0m\u001b[0;32m      4\u001b[0m \u001b[0mY\u001b[0m \u001b[1;33m=\u001b[0m \u001b[0mdf\u001b[0m\u001b[1;33m[\u001b[0m\u001b[1;34m'team_possessions'\u001b[0m\u001b[1;33m]\u001b[0m\u001b[1;33m\u001b[0m\u001b[1;33m\u001b[0m\u001b[0m\n\u001b[0;32m      5\u001b[0m \u001b[1;33m\u001b[0m\u001b[0m\n",
      "\u001b[1;31mNameError\u001b[0m: name 'df' is not defined"
     ]
    }
   ],
   "source": [
    "from sklearn.linear_model import LinearRegression\n",
    "\n",
    "X = df[['ORB','DRB','STL','BLK','TOV','PF','FGMi','FTA']]\n",
    "Y = df['team_possessions']\n",
    "\n",
    "model = LinearRegression()\n",
    "model.fit(X,Y)\n",
    "\n",
    "print('Regression Coefficients:',model.coef_)\n",
    "print(model.intercept_)\n",
    "              "
   ]
  },
  {
   "cell_type": "code",
   "execution_count": 8,
   "id": "7cff143c-1eea-49ed-ba79-6c4e105b94f5",
   "metadata": {},
   "outputs": [
    {
     "ename": "NameError",
     "evalue": "name 'model' is not defined",
     "output_type": "error",
     "traceback": [
      "\u001b[1;31m---------------------------------------------------------------------------\u001b[0m",
      "\u001b[1;31mNameError\u001b[0m                                 Traceback (most recent call last)",
      "\u001b[1;32m~\\AppData\\Local\\Temp\\ipykernel_2792\\3555215038.py\u001b[0m in \u001b[0;36m<module>\u001b[1;34m\u001b[0m\n\u001b[1;32m----> 1\u001b[1;33m \u001b[0mcoefficients\u001b[0m\u001b[1;33m=\u001b[0m\u001b[0mmodel\u001b[0m\u001b[1;33m.\u001b[0m\u001b[0mcoef_\u001b[0m\u001b[1;33m\u001b[0m\u001b[1;33m\u001b[0m\u001b[0m\n\u001b[0m\u001b[0;32m      2\u001b[0m \u001b[1;33m\u001b[0m\u001b[0m\n\u001b[0;32m      3\u001b[0m \u001b[0madjusted_coefficients\u001b[0m \u001b[1;33m=\u001b[0m \u001b[0mcoefficients\u001b[0m\u001b[1;33m.\u001b[0m\u001b[0mcopy\u001b[0m\u001b[1;33m(\u001b[0m\u001b[1;33m)\u001b[0m\u001b[1;33m\u001b[0m\u001b[1;33m\u001b[0m\u001b[0m\n\u001b[0;32m      4\u001b[0m \u001b[0madjusted_coefficients\u001b[0m\u001b[1;33m[\u001b[0m\u001b[1;36m1\u001b[0m\u001b[1;33m]\u001b[0m \u001b[1;33m=\u001b[0m \u001b[0mabs\u001b[0m\u001b[1;33m(\u001b[0m\u001b[0madjusted_coefficients\u001b[0m\u001b[1;33m[\u001b[0m\u001b[1;36m1\u001b[0m\u001b[1;33m]\u001b[0m\u001b[1;33m)\u001b[0m\u001b[1;33m\u001b[0m\u001b[1;33m\u001b[0m\u001b[0m\n\u001b[0;32m      5\u001b[0m \u001b[0madjusted_coefficients\u001b[0m\u001b[1;33m[\u001b[0m\u001b[1;36m2\u001b[0m\u001b[1;33m]\u001b[0m \u001b[1;33m=\u001b[0m \u001b[0mabs\u001b[0m\u001b[1;33m(\u001b[0m\u001b[0madjusted_coefficients\u001b[0m\u001b[1;33m[\u001b[0m\u001b[1;36m2\u001b[0m\u001b[1;33m]\u001b[0m\u001b[1;33m)\u001b[0m\u001b[1;33m\u001b[0m\u001b[1;33m\u001b[0m\u001b[0m\n",
      "\u001b[1;31mNameError\u001b[0m: name 'model' is not defined"
     ]
    }
   ],
   "source": [
    "coefficients=model.coef_\n",
    "\n",
    "adjusted_coefficients = coefficients.copy()\n",
    "adjusted_coefficients[1] = abs(adjusted_coefficients[1])\n",
    "adjusted_coefficients[2] = abs(adjusted_coefficients[2])\n",
    "adjusted_coefficients[3] = abs(adjusted_coefficients[3])\n",
    "adjusted_coefficients[7] = abs(adjusted_coefficients[7])\n",
    "adjusted_coefficients[6] = -abs(.5*adjusted_coefficients[6])\n",
    "adjusted_coefficients[4] = -abs(adjusted_coefficients[4])\n",
    "\n",
    "df['WPC'] = sum(df[col]*coef for col,coef in zip(X.columns, adjusted_coefficients))\n",
    "df['WPC'] += model.intercept_"
   ]
  },
  {
   "cell_type": "code",
   "execution_count": 60,
   "id": "e5e61a29-c0b9-48a6-9d4c-f3a78bc96b81",
   "metadata": {},
   "outputs": [
    {
     "name": "stdout",
     "output_type": "stream",
     "text": [
      "0      134.398857\n",
      "1      124.561950\n",
      "2      123.212425\n",
      "3      129.965898\n",
      "4      131.863946\n",
      "          ...    \n",
      "533    125.212130\n",
      "534    129.321642\n",
      "535    131.985425\n",
      "536    118.706876\n",
      "537    127.995834\n",
      "Name: WPC, Length: 538, dtype: float64\n"
     ]
    }
   ],
   "source": [
    "print(df['WPC'])"
   ]
  },
  {
   "cell_type": "code",
   "execution_count": 61,
   "id": "1d0431b8-56da-4655-adc1-c1fa558a6255",
   "metadata": {},
   "outputs": [
    {
     "name": "stdout",
     "output_type": "stream",
     "text": [
      "Average WPC: 127.3419178764072\n"
     ]
    }
   ],
   "source": [
    "average_WPC = df['WPC'].mean()\n",
    "\n",
    "print(f\"Average WPC: {average_WPC}\")"
   ]
  },
  {
   "cell_type": "code",
   "execution_count": 62,
   "id": "bccc40be-00fa-49ab-a2e4-11b288b89721",
   "metadata": {},
   "outputs": [
    {
     "name": "stdout",
     "output_type": "stream",
     "text": [
      "WPC+:100.00000000000014\n"
     ]
    }
   ],
   "source": [
    "df['WPC_adjusted'] = df['WPC'] * (100 / average_WPC)\n",
    "WPC_new = df['WPC_adjusted'].mean()\n",
    "print(f'WPC+:{WPC_new}')\n"
   ]
  },
  {
   "cell_type": "code",
   "execution_count": 63,
   "id": "985e78f0-40ae-4d17-9e60-a7bb60b1c287",
   "metadata": {},
   "outputs": [
    {
     "name": "stdout",
     "output_type": "stream",
     "text": [
      "              Player         WPC  WPC_adjusted\n",
      "0   Precious Achiuwa  134.398857    105.541725\n",
      "1         OG Anunoby  124.561950     97.816927\n",
      "2         RJ Barrett  123.212425     96.757162\n",
      "3      Nicolas Batum  129.965898    102.060579\n",
      "4   Robert Covington  131.863946    103.551091\n",
      "5          KJ Martin  125.443261     98.509008\n",
      "6     Filip Petrušev  124.221022     97.549200\n",
      "7  Immanuel Quickley  121.336732     95.284203\n",
      "8       Daniel Theis  130.896983    102.791748\n",
      "9        P.J. Tucker  129.981074    102.072496\n"
     ]
    }
   ],
   "source": [
    "print(df[['Player', 'WPC', 'WPC_adjusted']].head(10))"
   ]
  },
  {
   "cell_type": "code",
   "execution_count": 64,
   "id": "af1883f3-93d0-42a4-aadf-d89e273ba0b7",
   "metadata": {},
   "outputs": [
    {
     "name": "stdout",
     "output_type": "stream",
     "text": [
      "                    Player  WPC_adjusted\n",
      "44       Mitchell Robinson    124.966775\n",
      "108            Rudy Gobert    122.106334\n",
      "387           Clint Capela    121.645140\n",
      "274          Mark Williams    119.545676\n",
      "506          Anthony Davis    118.822712\n",
      "168  Giannis Antetokounmpo    118.556683\n",
      "341       Domantas Sabonis    116.897974\n",
      "279            Joel Embiid    116.765245\n",
      "245            Jalen Duren    116.735205\n",
      "435            Nic Claxton    116.656278\n"
     ]
    }
   ],
   "source": [
    "top_10_WPC = df[['Player','WPC_adjusted']].sort_values(by='WPC_adjusted',ascending=False).head(10)\n",
    "print(top_10_WPC)\n"
   ]
  },
  {
   "cell_type": "code",
   "execution_count": 81,
   "id": "90948a66-fa03-4fab-ae06-ff1d7dcb4f59",
   "metadata": {},
   "outputs": [],
   "source": [
    "df.groupby('Pos')['WPC_adjusted'].mean().sort_values(ascending=False)\n",
    "df['WPC_pos_adj'] = df.groupby('Pos')['WPC_adjusted'].transform(lambda x: x * (100 / x.mean()))\n"
   ]
  },
  {
   "cell_type": "code",
   "execution_count": 82,
   "id": "b60e85d5-31bc-4cda-97d9-ea8fc04b2fff",
   "metadata": {},
   "outputs": [
    {
     "name": "stdout",
     "output_type": "stream",
     "text": [
      "                    Player Pos  WPC_pos_adj\n",
      "168  Giannis Antetokounmpo  PF   117.591264\n",
      "44       Mitchell Robinson   C   117.447276\n",
      "445            Ben Simmons  PG   115.585661\n",
      "108            Rudy Gobert   C   114.758953\n",
      "387           Clint Capela   C   114.325510\n",
      "13              RJ Barrett  SG   113.504051\n",
      "274          Mark Williams   C   112.352375\n",
      "142            Evan Mobley  PF   111.841555\n",
      "506          Anthony Davis   C   111.672914\n",
      "12          Scottie Barnes  SG   111.645500\n"
     ]
    }
   ],
   "source": [
    "top_10_WPC = df[['Player', 'Pos', 'WPC_pos_adj']].sort_values(by='WPC_pos_adj', ascending=False).head(10)\n",
    "print(top_10_WPC)\n"
   ]
  },
  {
   "cell_type": "code",
   "execution_count": 83,
   "id": "3e5e8257-7c5a-4df2-a51a-7295ac2a51fc",
   "metadata": {},
   "outputs": [
    {
     "name": "stdout",
     "output_type": "stream",
     "text": [
      "                    Player Pos  WPC_pos_adj\n",
      "168  Giannis Antetokounmpo  PF   117.591264\n",
      "44       Mitchell Robinson   C   117.447276\n",
      "445            Ben Simmons  PG   115.585661\n",
      "108            Rudy Gobert   C   114.758953\n",
      "387           Clint Capela   C   114.325510\n",
      "13              RJ Barrett  SG   113.504051\n",
      "274          Mark Williams   C   112.352375\n",
      "142            Evan Mobley  PF   111.841555\n",
      "506          Anthony Davis   C   111.672914\n",
      "12          Scottie Barnes  SG   111.645500\n",
      "19         Markquis Nowell  SG   110.356082\n",
      "341       Domantas Sabonis   C   109.863990\n",
      "279            Joel Embiid   C   109.739248\n",
      "245            Jalen Duren   C   109.711015\n",
      "435            Nic Claxton   C   109.636838\n",
      "419           Aaron Gordon  PF   109.104481\n",
      "134          Jarrett Allen   C   108.891686\n",
      "393          Jalen Johnson  SF   108.513514\n",
      "254         Ausar Thompson  SF   108.496980\n",
      "365            Ivica Zubac   C   108.280318\n",
      "324      Victor Wembanyama  PF   108.179081\n",
      "407         Andre Drummond   C   108.012869\n",
      "209         Daniel Gafford   C   107.734413\n",
      "238          Jabari Walker  SF   107.410736\n",
      "384             Saddiq Bey  SF   107.258246\n"
     ]
    }
   ],
   "source": [
    "top_25_WPC = df[['Player','Pos','WPC_pos_adj']].sort_values(by='WPC_pos_adj',ascending=False).head(25)\n",
    "print(top_25_WPC)"
   ]
  },
  {
   "cell_type": "code",
   "execution_count": 68,
   "id": "b6c0fa7b-3bee-4686-8c0f-c0467590b57d",
   "metadata": {},
   "outputs": [
    {
     "name": "stdout",
     "output_type": "stream",
     "text": [
      "                    Player Pos  WPC_pos_adj\n",
      "168  Giannis Antetokounmpo  PF   117.591264\n",
      "44       Mitchell Robinson   C   117.447276\n",
      "445            Ben Simmons  PG   115.585661\n",
      "108            Rudy Gobert   C   114.758953\n",
      "387           Clint Capela   C   114.325510\n",
      "..                     ...  ..          ...\n",
      "530         Gary Payton II  SG   103.493290\n",
      "226         Toumani Camara  PF   103.437882\n",
      "380          Aaron Wiggins  SG   103.434339\n",
      "118          Grayson Allen  SG   103.424668\n",
      "158          Naji Marshall  SF   103.391907\n",
      "\n",
      "[75 rows x 3 columns]\n"
     ]
    }
   ],
   "source": [
    "top_75_WPC = df[['Player','Pos','WPC_pos_adj']].sort_values(by='WPC_pos_adj',ascending=False).head(75)\n",
    "print(top_75_WPC)"
   ]
  },
  {
   "cell_type": "code",
   "execution_count": 69,
   "id": "79095a30-b319-410f-82c4-42c5a031c4c6",
   "metadata": {},
   "outputs": [
    {
     "name": "stdout",
     "output_type": "stream",
     "text": [
      "Standard Deviation of WPC (adjusted): 3.8568414826199495\n"
     ]
    }
   ],
   "source": [
    "wpc_pos_adj_std = df['WPC_pos_adj'].std()\n",
    "print(f\"Standard Deviation of WPC (adjusted): {wpc_pos_adj_std}\")\n"
   ]
  },
  {
   "cell_type": "code",
   "execution_count": 70,
   "id": "0a3d50bc-ade3-4129-b4e8-de58491852fe",
   "metadata": {},
   "outputs": [
    {
     "name": "stdout",
     "output_type": "stream",
     "text": [
      "Player not found.\n"
     ]
    }
   ],
   "source": [
    "if 'Lebron James' in df['Player'].values:\n",
    "    Lebron_wpc_adj = df[df['Player'] == 'Lebron James']['WPC_pos_adj'].iloc[0]\n",
    "    print(f\"Lebron James's Adjusted WPC: {Lebron_wpc_adj}\")\n",
    "else:\n",
    "    print(\"Player not found.\")"
   ]
  },
  {
   "cell_type": "code",
   "execution_count": 71,
   "id": "732262b4-38ba-4f71-90ae-b8ab1475f1d7",
   "metadata": {},
   "outputs": [
    {
     "name": "stdout",
     "output_type": "stream",
     "text": [
      "Stephen Curry's Adjusted WPC: 96.93232095215674\n"
     ]
    }
   ],
   "source": [
    "if 'Stephen Curry' in df['Player'].values:\n",
    "    Steph_wpc_adj = df[df['Player'] == 'Stephen Curry']['WPC_pos_adj'].iloc[0]\n",
    "    print(f\"Stephen Curry's Adjusted WPC: {Steph_wpc_adj}\")\n",
    "else:\n",
    "    print(\"Player not found.\")"
   ]
  },
  {
   "cell_type": "code",
   "execution_count": 84,
   "id": "ed78e120-4047-49a9-9156-49927b0ce4ff",
   "metadata": {},
   "outputs": [
    {
     "name": "stdout",
     "output_type": "stream",
     "text": [
      "25th Percentile: 97.74636702349206\n",
      "50th Percentile (Median): 99.57983185639227\n",
      "75th Percentile: 101.4980078296154\n"
     ]
    }
   ],
   "source": [
    "percentile_25 = df['WPC_pos_adj'].quantile(0.25)\n",
    "percentile_50 = df['WPC_pos_adj'].quantile(0.50)  # This is the median\n",
    "percentile_75 = df['WPC_pos_adj'].quantile(0.75)\n",
    "\n",
    "print(f\"25th Percentile: {percentile_25}\")\n",
    "print(f\"50th Percentile (Median): {percentile_50}\")\n",
    "print(f\"75th Percentile: {percentile_75}\")\n"
   ]
  },
  {
   "cell_type": "code",
   "execution_count": 85,
   "id": "e8323fb1-2e08-4df7-8c2a-1286612e4bc6",
   "metadata": {},
   "outputs": [
    {
     "name": "stdout",
     "output_type": "stream",
     "text": [
      "95th Percentile:106.88688750150546\n"
     ]
    }
   ],
   "source": [
    "percentile_95 = df['WPC_pos_adj'].quantile(0.95)\n",
    "print(f\"95th Percentile:{percentile_95}\")\n"
   ]
  },
  {
   "cell_type": "code",
   "execution_count": 86,
   "id": "4061a919-67b2-4574-a224-ef9df428f5d3",
   "metadata": {},
   "outputs": [],
   "source": [
    "df['WPC_per_100'] = (df['WPC_pos_adj'] / df['team_possessions']) * 100\n"
   ]
  },
  {
   "cell_type": "code",
   "execution_count": 87,
   "id": "a499d51d-8f54-468f-a5cd-124fb869f52c",
   "metadata": {},
   "outputs": [
    {
     "name": "stdout",
     "output_type": "stream",
     "text": [
      "Jaylen Brown's WPC: 97.43265117559139\n"
     ]
    }
   ],
   "source": [
    "if 'Jaylen Brown' in df['Player'].values:\n",
    "    JayB_WPC = df[df['Player'] == 'Jaylen Brown']['WPC_pos_adj'].iloc[0]\n",
    "    print(f\"Jaylen Brown's WPC: {JayB_WPC}\")\n",
    "else: print(\"Player not Found\")"
   ]
  },
  {
   "cell_type": "code",
   "execution_count": 88,
   "id": "f6fd1946-ddf8-4731-b2b6-9e4fdb9c5db0",
   "metadata": {},
   "outputs": [
    {
     "name": "stdout",
     "output_type": "stream",
     "text": [
      "Jayson Tatum's WPC: 100.36748959241962\n"
     ]
    }
   ],
   "source": [
    "if 'Jayson Tatum' in df['Player'].values:\n",
    "    JayT_WPC = df[df['Player'] == 'Jayson Tatum']['WPC_pos_adj'].iloc[0]\n",
    "    print(f\"Jayson Tatum's WPC: {JayT_WPC}\")\n",
    "else: print(\"Player not Found\")"
   ]
  },
  {
   "cell_type": "code",
   "execution_count": 89,
   "id": "e5e878c0-167b-4adc-a924-9acc01986b12",
   "metadata": {},
   "outputs": [
    {
     "name": "stdout",
     "output_type": "stream",
     "text": [
      "Derrick White's WPC: 102.64297838881852\n"
     ]
    }
   ],
   "source": [
    "if 'Derrick White' in df['Player'].values:\n",
    "    DWhite_WPC = df[df['Player'] == 'Derrick White']['WPC_pos_adj'].iloc[0]\n",
    "    print(f\"Derrick White's WPC: {DWhite_WPC}\")\n",
    "else: print(\"Player not Found\")"
   ]
  },
  {
   "cell_type": "code",
   "execution_count": null,
   "id": "22d3b359-a308-469c-85fc-2a9715b7d0a5",
   "metadata": {},
   "outputs": [],
   "source": []
  }
 ],
 "metadata": {
  "kernelspec": {
   "display_name": "Python 3 (ipykernel)",
   "language": "python",
   "name": "python3"
  },
  "language_info": {
   "codemirror_mode": {
    "name": "ipython",
    "version": 3
   },
   "file_extension": ".py",
   "mimetype": "text/x-python",
   "name": "python",
   "nbconvert_exporter": "python",
   "pygments_lexer": "ipython3",
   "version": "3.9.13"
  }
 },
 "nbformat": 4,
 "nbformat_minor": 5
}
